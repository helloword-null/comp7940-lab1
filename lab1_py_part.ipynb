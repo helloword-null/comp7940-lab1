{
 "cells": [
  {
   "cell_type": "code",
   "execution_count": 4,
   "metadata": {},
   "outputs": [
    {
     "name": "stdout",
     "output_type": "stream",
     "text": [
      "7\n",
      "73\n",
      "103\n",
      "511\n",
      "721\n",
      "7519\n"
     ]
    }
   ],
   "source": [
    "# Find the all factors of x using a loop and the operator % \n",
    "# % means find remainder, for example 10 % 2 = 0; 10% 3 = 1\n",
    "x = 52633\n",
    "for i in range(x+1):\n",
    "  # your code here\n",
    "  if i > 1:\n",
    "    if x%i == 0:\n",
    "        if i != x:\n",
    "            print(i);\n",
    "        "
   ]
  },
  {
   "cell_type": "code",
   "execution_count": 7,
   "metadata": {},
   "outputs": [
    {
     "name": "stdout",
     "output_type": "stream",
     "text": [
      "7\n",
      "73\n",
      "103\n",
      "511\n",
      "721\n",
      "7519\n"
     ]
    }
   ],
   "source": [
    "# Write a function that prints all factors of the given parameter x\n",
    "def print_factor(x):\n",
    "  # your code here\n",
    "  for i in range(x+1):\n",
    "  # your code here\n",
    "   if i > 1:\n",
    "    if x%i == 0:\n",
    "        if i != x:\n",
    "            print(i);\n",
    "\n",
    "print_factor(52633)"
   ]
  },
  {
   "cell_type": "code",
   "execution_count": 13,
   "metadata": {},
   "outputs": [
    {
     "name": "stdout",
     "output_type": "stream",
     "text": [
      "All the factors of the number: 52633\n",
      "7\n",
      "73\n",
      "103\n",
      "511\n",
      "721\n",
      "7519\n",
      "All the factors of the number: 8137\n",
      "79\n",
      "103\n",
      "All the factors of the number: 1024\n",
      "2\n",
      "4\n",
      "8\n",
      "16\n",
      "32\n",
      "64\n",
      "128\n",
      "256\n",
      "512\n",
      "All the factors of the number: 999\n",
      "3\n",
      "9\n",
      "27\n",
      "37\n",
      "111\n",
      "333\n"
     ]
    }
   ],
   "source": [
    "# Write a program that be able to find all factors of the numbers in the list l\n",
    "l = [52633, 8137, 1024, 999]\n",
    "\n",
    "# your code here\n",
    "def print_list_factor(x):\n",
    "    for j in l:\n",
    "        print(\"All the factors of the number:\",j)\n",
    "        print_factor(j)\n",
    "\n",
    "print_list_factor(l)"
   ]
  },
  {
   "cell_type": "code",
   "execution_count": null,
   "metadata": {},
   "outputs": [],
   "source": []
  }
 ],
 "metadata": {
  "kernelspec": {
   "display_name": "Python 3",
   "language": "python",
   "name": "python3"
  },
  "language_info": {
   "codemirror_mode": {
    "name": "ipython",
    "version": 3
   },
   "file_extension": ".py",
   "mimetype": "text/x-python",
   "name": "python",
   "nbconvert_exporter": "python",
   "pygments_lexer": "ipython3",
   "version": "3.8.3"
  }
 },
 "nbformat": 4,
 "nbformat_minor": 4
}
